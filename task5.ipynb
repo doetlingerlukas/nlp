{
 "metadata": {
  "language_info": {
   "codemirror_mode": {
    "name": "ipython",
    "version": 3
   },
   "file_extension": ".py",
   "mimetype": "text/x-python",
   "name": "python",
   "nbconvert_exporter": "python",
   "pygments_lexer": "ipython3",
   "version": "3.9.2-final"
  },
  "orig_nbformat": 2,
  "kernelspec": {
   "name": "python392jvsc74a57bd05e201434fc87e731f1f08451237b3d562d890a8afaf10be68eaaa2bf1fd600d6",
   "display_name": "Python 3.9.2 64-bit"
  }
 },
 "nbformat": 4,
 "nbformat_minor": 2,
 "cells": [
  {
   "source": [
    "# Task 5\n",
    "\n",
    "*by Lukas Dötlinger*"
   ],
   "cell_type": "markdown",
   "metadata": {}
  },
  {
   "cell_type": "code",
   "execution_count": 36,
   "metadata": {
    "tags": []
   },
   "outputs": [
    {
     "output_type": "stream",
     "name": "stdout",
     "text": [
      "ham\nspam\n"
     ]
    }
   ],
   "source": [
    "import pandas as pd\n",
    "import itertools as it\n",
    "from nltk.probability import FreqDist\n",
    "\n",
    "df = pd.read_csv('res/spam-dataset.csv')\n",
    "\n",
    "spam_list = df[df['Category'] == 'spam']['Message'].tolist()\n",
    "ham_list = df[df['Category'] == 'ham']['Message'].tolist()\n",
    "\n",
    "\n",
    "def dist_from_lines(lines):\n",
    "    flattened_words = list(it.chain.from_iterable([ l.split() for l in lines ]))\n",
    "    dist = FreqDist([ w.lower() for w in flattened_words if any(c.isalpha() for c in w) ])\n",
    "    return dist\n",
    "\n",
    "def increase_count_in_dist(dist):\n",
    "    for word in dist:\n",
    "        dist[word] += 1\n",
    "\n",
    "class NBClassifier:\n",
    "    def __init__(self, spam_list, ham_list):\n",
    "        self.p_ham = float(len(ham_list)) / float(len(ham_list) + len(spam_list))\n",
    "        self.p_spam = float(len(spam_list)) / float(len(ham_list) + len(spam_list))\n",
    "\n",
    "        self.spam_dist = dist_from_lines(spam_list)\n",
    "        self.ham_dist = dist_from_lines(ham_list)\n",
    "\n",
    "        increase_count_in_dist(self.spam_dist)\n",
    "        increase_count_in_dist(self.ham_dist)\n",
    "\n",
    "        words_not_in_ham = FreqDist(list(set(spam_dist.keys()).difference(ham_dist.keys())))\n",
    "        self.ham_dist.update(words_not_in_ham)\n",
    "\n",
    "        words_not_in_spam = FreqDist(list(set(ham_dist.keys()).difference(spam_dist.keys())))\n",
    "        self.spam_dist.update(words_not_in_spam)\n",
    "\n",
    "    def spam_prob(self, words):\n",
    "        p = self.p_spam\n",
    "        for w in words:\n",
    "            if self.spam_dist.freq(w) > 0:\n",
    "                p *= self.spam_dist.freq(w)\n",
    "            else:\n",
    "                print(f'Word not found in spam training set: {w}')\n",
    "        return p\n",
    "\n",
    "    def ham_prob(self, words):\n",
    "        p = self.p_ham\n",
    "        for w in words:\n",
    "            if self.ham_dist.freq(w) > 0:\n",
    "                p *= self.ham_dist.freq(w)\n",
    "            else:\n",
    "                print(f'Word not found in ham training set: {w}')\n",
    "        return p\n",
    "\n",
    "    def classify(self, text):\n",
    "        words = [ w.lower() for w in text.split() ]\n",
    "        if self.ham_prob(words) >= self.spam_prob(words):\n",
    "            return \"ham\"\n",
    "        else:\n",
    "            return \"spam\"\n",
    "\n",
    "    def print(self):\n",
    "        print(f'p_ham: {self.p_ham}, p_spam: {self.p_spam}')\n",
    "\n",
    "\n",
    "classifier = NBClassifier(spam_list, ham_list)\n",
    "\n",
    "print(classifier.classify('dear friend hello how are you'))\n",
    "print(classifier.classify('money win now'))\n"
   ]
  }
 ]
}