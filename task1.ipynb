{
 "cells": [
  {
   "cell_type": "markdown",
   "id": "spread-organizer",
   "metadata": {},
   "source": [
    "# Task 1: Regular Expressions\n",
    "\n",
    "*by Lukas Dötlinger*\n",
    "\n",
    "## Patterns\n",
    "\n",
    "Regular expression for **e-mail addresses**: `([\\w.+-]+@[A-Za-z0-9-]+\\.[A-Za-z0-9-.]+)`\n",
    "\n",
    "`[\\w.+-]+` matches any alphanumeric character and underscore, dot, plus and minus, at least once. Subsequently a `@` is matched, followed by the domain. The domain consists of at least two domain names concatinated by a dot.\n",
    "\n",
    "Regular expression for **phone numbers**: `(((\\+|00)[0-9]{2}|0)-[0-9]{3,4}-[0-9]+)`\n",
    "\n",
    "The expressions matches phone numbers consisting of three parts sperated by `-`. The first part represents the country code, which can either be `0` indicating country of call origin, or `(\\+|00)[0-9]` representing a country code preceeded by a `+` or `00`. The second part determines a local region or provider network consisting of three or four numbers. The last part contains one or more numbers.\n",
    "\n",
    "## Example"
   ]
  },
  {
   "cell_type": "code",
   "execution_count": 24,
   "id": "ordinary-lincoln",
   "metadata": {},
   "outputs": [
    {
     "name": "stdout",
     "output_type": "stream",
     "text": [
      "Found addresses:\n",
      "['test@test.com', 'valid_test@test.ac.at', 'valid-test2@test-xyz.at']\n",
      "\n",
      "Found phone numbers:\n",
      "[('+43-676-6767677899890', '+43', '+'),\n",
      " ('0043-664-56743', '0043', '00'),\n",
      " ('+43-5352-94221', '+43', '+'),\n",
      " ('0-512-987654321', '0', '')]\n"
     ]
    }
   ],
   "source": [
    "import re\n",
    "from pprint import pprint\n",
    "\n",
    "emails = \"\"\"\n",
    "  test@test.com\n",
    "  valid_test@test.ac.at\n",
    "  valid-test2@test-xyz.at\n",
    "  invalid:@test\n",
    "  invalid@test_xy.at\n",
    "\"\"\"\n",
    "\n",
    "print(\"Found addresses:\")\n",
    "pprint(re.findall(\"([\\w.+-]+@[A-Za-z0-9-]+\\.[A-Za-z0-9-.]+)\", emails))\n",
    "\n",
    "phone_numbers = \"\"\"\n",
    "  +43-676-6767677899890\n",
    "  0043-664-56743\n",
    "  +43-5352-94221\n",
    "  0-512-987654321\n",
    "  +4-676-6\n",
    "  0-51223-987654321\n",
    "\"\"\"\n",
    "\n",
    "print(\"\\nFound phone numbers:\")\n",
    "pprint(re.findall(\"(((\\+|00)[0-9]{2}|0)-[0-9]{3,4}-[0-9]+)\", phone_numbers))"
   ]
  },
  {
   "cell_type": "code",
   "execution_count": null,
   "id": "hawaiian-syndication",
   "metadata": {},
   "outputs": [],
   "source": []
  }
 ],
 "metadata": {
  "kernelspec": {
   "display_name": "Python 3",
   "language": "python",
   "name": "python3"
  },
  "language_info": {
   "codemirror_mode": {
    "name": "ipython",
    "version": 3
   },
   "file_extension": ".py",
   "mimetype": "text/x-python",
   "name": "python",
   "nbconvert_exporter": "python",
   "pygments_lexer": "ipython3",
   "version": "3.9.2"
  }
 },
 "nbformat": 4,
 "nbformat_minor": 5
}
