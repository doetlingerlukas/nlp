{
 "cells": [
  {
   "cell_type": "markdown",
   "id": "missing-agent",
   "metadata": {},
   "source": [
    "# Task 2: Stemming and Lemmatizing\n",
    "\n",
    "*by Lukas Dötlinger*\n",
    "\n",
    "## Stemming"
   ]
  },
  {
   "cell_type": "code",
   "execution_count": 42,
   "id": "isolated-prairie",
   "metadata": {},
   "outputs": [
    {
     "name": "stdout",
     "output_type": "stream",
     "text": [
      "Outpur of Porter Stemmer:\n",
      "['A', 'longer', 'sentenc', 'wa', 'use', 'for', 'do', 'some', 'stem', 'by', 'use', 'multipl', 'stemmer', 'which', 'are', 'implement', 'in', 'nltk', '.']\n",
      "\n",
      "Output of Snowball Stemmer:\n",
      "['a', 'longer', 'sentenc', 'was', 'use', 'for', 'do', 'some', 'stem', 'by', 'use', 'multipl', 'stemmer', 'which', 'are', 'implement', 'in', 'nltk', '.']\n",
      "\n",
      "Difference:\n",
      "['was', 'a']\n",
      "\n",
      "Sentence without stopwords:\n",
      "A longer sentence used stemming using multiple stemmers implemented nltk.\n",
      "\n",
      "Outpur of Porter Stemmer without stopwords:\n",
      "['A', 'longer', 'sentenc', 'use', 'stem', 'use', 'multipl', 'stemmer', 'implement', 'nltk', '.']\n",
      "\n",
      "Output of Snowball Stemmer without stopwords:\n",
      "['a', 'longer', 'sentenc', 'use', 'stem', 'use', 'multipl', 'stemmer', 'implement', 'nltk', '.']\n",
      "\n",
      "Difference:\n",
      "['a']\n"
     ]
    }
   ],
   "source": [
    "from pprint import pprint\n",
    "from nltk.stem import PorterStemmer, SnowballStemmer\n",
    "from nltk.corpus import stopwords\n",
    "from nltk.tokenize import word_tokenize\n",
    "\n",
    "stop_words = set(stopwords.words('english'))\n",
    "\n",
    "text = \"\"\"A longer sentence was used for doing some stemming by using multiple stemmers which\n",
    "    are implemented in nltk.\"\"\"\n",
    "words = word_tokenize(text)\n",
    "filtered_words = [w for w in tokens if not w in stop_words]\n",
    "\n",
    "ps = PorterStemmer()\n",
    "ps_result = list(map(lambda w: ps.stem(w), words))\n",
    "print('Outpur of Porter Stemmer:')\n",
    "print(ps_result)\n",
    "\n",
    "ss = SnowballStemmer(\"english\")\n",
    "ss_result = list(map(lambda w: ss.stem(w), words))\n",
    "print('\\nOutput of Snowball Stemmer:')\n",
    "print(ss_result)\n",
    "\n",
    "print('\\nDifference:')\n",
    "diff = list(set(ss_result) - set(ps_result))\n",
    "print(diff)\n",
    "\n",
    "print('\\nSentence without stopwords:')\n",
    "print(filtered_text)\n",
    "\n",
    "ps_result = list(map(lambda w: ps.stem(w), filtered_words))\n",
    "print('\\nOutpur of Porter Stemmer without stopwords:')\n",
    "print(ps_result)\n",
    "\n",
    "ss_result = list(map(lambda w: ss.stem(w), filtered_words))\n",
    "print('\\nOutput of Snowball Stemmer without stopwords:')\n",
    "print(ss_result)\n",
    "\n",
    "print('\\nDifference:')\n",
    "diff = list(set(ss_result) - set(ps_result))\n",
    "print(diff)\n"
   ]
  },
  {
   "cell_type": "code",
   "execution_count": null,
   "id": "guided-documentary",
   "metadata": {},
   "outputs": [],
   "source": []
  }
 ],
 "metadata": {
  "kernelspec": {
   "display_name": "Python 3",
   "language": "python",
   "name": "python3"
  },
  "language_info": {
   "codemirror_mode": {
    "name": "ipython",
    "version": 3
   },
   "file_extension": ".py",
   "mimetype": "text/x-python",
   "name": "python",
   "nbconvert_exporter": "python",
   "pygments_lexer": "ipython3",
   "version": "3.9.2"
  }
 },
 "nbformat": 4,
 "nbformat_minor": 5
}
