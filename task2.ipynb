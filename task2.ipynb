{
 "cells": [
  {
   "cell_type": "markdown",
   "id": "missing-agent",
   "metadata": {},
   "source": [
    "# Task 2: Stemming and Lemmatizing\n",
    "\n",
    "*by Lukas Dötlinger*\n"
   ]
  },
  {
   "cell_type": "code",
   "execution_count": 17,
   "id": "isolated-prairie",
   "metadata": {},
   "outputs": [
    {
     "name": "stdout",
     "output_type": "stream",
     "text": [
      "Porter Stemmer:\n",
      " ['A', 'longer', 'sentenc', 'wa', 'use', 'for', 'do', 'some', 'stem', 'by', 'use', 'multipl', 'stemmer', 'which', 'are', 'implement', 'in', 'nltk', '.', 'thi', 'did', \"n't\", 'yield', 'an', 'groundbreak', 'result', '.', 'We', 'can', 'conclud', 'that', 'the', 'result', 'are', 'not', 'that', 'differ', 'overal', 'when', 'use', 'differ', 'stemmer', '.', 'dure', 'the', 'test', ',', 'onli', 'some', 'minor', 'differ', 'were', 'found', 'between', 'the', 'approach', '.']\n",
      "\n",
      "Snowball Stemmer:\n",
      " ['a', 'longer', 'sentenc', 'was', 'use', 'for', 'do', 'some', 'stem', 'by', 'use', 'multipl', 'stemmer', 'which', 'are', 'implement', 'in', 'nltk', '.', 'this', 'did', \"n't\", 'yield', 'an', 'groundbreak', 'result', '.', 'we', 'can', 'conclud', 'that', 'the', 'result', 'are', 'not', 'that', 'differ', 'overal', 'when', 'use', 'differ', 'stemmer', '.', 'dure', 'the', 'test', ',', 'onli', 'some', 'minor', 'differ', 'were', 'found', 'between', 'the', 'approach', '.']\n",
      "\n",
      "Difference when using all words: ['a', 'this', 'we', 'was']\n",
      "\n",
      "Difference when excluding stopwords: ['a', 'this', 'we']\n"
     ]
    }
   ],
   "source": [
    "from pprint import pprint\n",
    "from nltk.stem import PorterStemmer, SnowballStemmer\n",
    "from nltk.corpus import stopwords\n",
    "from nltk.tokenize import word_tokenize\n",
    "\n",
    "stop_words = set(stopwords.words('english'))\n",
    "\n",
    "text = \"\"\"A longer sentence was used for doing some stemming by using multiple stemmers which\n",
    "    are implemented in nltk. This didn't yield an groundbreaking results. We can conclude\n",
    "    that the results are not that different overall when using different stemmers. During the\n",
    "    testing, only some minor differences were found between the approaches.\"\"\"\n",
    "words = word_tokenize(text)\n",
    "filtered_words = [w for w in words if not w in stop_words]\n",
    "\n",
    "ps = PorterStemmer()\n",
    "ss = SnowballStemmer(\"english\")\n",
    "\n",
    "ps_result = list(map(lambda w: ps.stem(w), words))\n",
    "ss_result = list(map(lambda w: ss.stem(w), words))\n",
    "print(\"Porter Stemmer:\\n\", ps_result)\n",
    "print(\"\\nSnowball Stemmer:\\n\", ss_result)\n",
    "\n",
    "diff = list(set(ss_result) - set(ps_result))\n",
    "print('\\nDifference when using all words:', diff)\n",
    "\n",
    "ps_result = list(map(lambda w: ps.stem(w), filtered_words))\n",
    "ss_result = list(map(lambda w: ss.stem(w), filtered_words))\n",
    "\n",
    "diff = list(set(ss_result) - set(ps_result))\n",
    "print('\\nDifference when excluding stopwords:', diff)"
   ]
  },
  {
   "cell_type": "markdown",
   "id": "dominican-roller",
   "metadata": {},
   "source": [
    "When looking at the computed differences, we cannot observe any major difference between the two stemmers. However the `SnowballStemmer` seems to be a bit more accurate and less aggressive, as the `PorterStemmer` stems `this` to `thi` and `was` to `wa`. We can therefore argue that a *Snowball Stemmer* is better for the given sentences. The removal of stopwords does not change that in any way."
   ]
  },
  {
   "cell_type": "code",
   "execution_count": 16,
   "id": "understood-arthritis",
   "metadata": {},
   "outputs": [
    {
     "name": "stdout",
     "output_type": "stream",
     "text": [
      "Lemmatized words that changed:\n",
      "was -> wa\n",
      "stemmers -> stemmer\n",
      "results -> result\n",
      "results -> result\n",
      "stemmers -> stemmer\n",
      "differences -> difference\n",
      "approaches -> approach\n"
     ]
    }
   ],
   "source": [
    "from nltk.stem import WordNetLemmatizer\n",
    "from nltk.tokenize import word_tokenize\n",
    "\n",
    "text = \"\"\"A longer sentence was used for doing some stemming by using multiple stemmers which\n",
    "    are implemented in nltk. This didn't yield an groundbreaking results. We can conclude\n",
    "    that the results are not that different overall when using different stemmers. During the\n",
    "    testing, only some minor differences were found between the approaches.\"\"\"\n",
    "words = word_tokenize(text)\n",
    "\n",
    "wordnet_lemmatizer = WordNetLemmatizer()\n",
    "\n",
    "print('Lemmatized words that changed:')\n",
    "for w in words:\n",
    "    if (wordnet_lemmatizer.lemmatize(w) != w):\n",
    "        print('{} -> {}'.format(w, wordnet_lemmatizer.lemmatize(w)))  "
   ]
  },
  {
   "cell_type": "markdown",
   "id": "grave-awareness",
   "metadata": {},
   "source": [
    "Comparing the `WordNetLemmatizer` to the previously used stemmers shows that it's only partially different. The lemmatizer does return `wa` for `was`, but doesn't change `this` like the *Porter Stemmer*."
   ]
  },
  {
   "cell_type": "code",
   "execution_count": null,
   "id": "proved-brown",
   "metadata": {},
   "outputs": [],
   "source": []
  }
 ],
 "metadata": {
  "kernelspec": {
   "display_name": "Python 3",
   "language": "python",
   "name": "python3"
  },
  "language_info": {
   "codemirror_mode": {
    "name": "ipython",
    "version": 3
   },
   "file_extension": ".py",
   "mimetype": "text/x-python",
   "name": "python",
   "nbconvert_exporter": "python",
   "pygments_lexer": "ipython3",
   "version": "3.9.2"
  }
 },
 "nbformat": 4,
 "nbformat_minor": 5
}
