{
 "metadata": {
  "language_info": {
   "codemirror_mode": {
    "name": "ipython",
    "version": 3
   },
   "file_extension": ".py",
   "mimetype": "text/x-python",
   "name": "python",
   "nbconvert_exporter": "python",
   "pygments_lexer": "ipython3",
   "version": "3.9.2-final"
  },
  "orig_nbformat": 2,
  "kernelspec": {
   "name": "python3",
   "display_name": "Python 3.9.2 64-bit",
   "metadata": {
    "interpreter": {
     "hash": "5e201434fc87e731f1f08451237b3d562d890a8afaf10be68eaaa2bf1fd600d6"
    }
   }
  }
 },
 "nbformat": 4,
 "nbformat_minor": 2,
 "cells": [
  {
   "source": [
    "# Task 4\n",
    "\n",
    "*by Lukas Dötlinger*"
   ],
   "cell_type": "markdown",
   "metadata": {}
  },
  {
   "cell_type": "code",
   "execution_count": 25,
   "metadata": {
    "tags": []
   },
   "outputs": [],
   "source": [
    "from nltk.tokenize import word_tokenize\n",
    "from nltk.util import trigrams\n",
    "from nltk.probability import ConditionalFreqDist\n",
    "\n",
    "def trigram_dist(sentences):\n",
    "    dist = ConditionalFreqDist()\n",
    "    for s in [ word_tokenize(s) for s in sentences ]:\n",
    "        for w1, w2, w3 in trigrams([ w.lower() for w in s if w.isalpha() ]):\n",
    "            dist[(w1, w2)][w3] += 1\n",
    "    return dist\n",
    "\n",
    "dist_au = create_trigram(open('res/training_data_AU.txt', encoding='utf8').readlines())\n",
    "dist_gb = create_trigram(open('res/training_data_GB.txt', encoding='utf8').readlines())\n",
    "dist_us = create_trigram(open('res/training_data_US.txt', encoding='utf8').readlines())\n"
   ]
  },
  {
   "cell_type": "code",
   "execution_count": 30,
   "metadata": {},
   "outputs": [
    {
     "output_type": "stream",
     "name": "stdout",
     "text": [
      "in the best of the most important thing is to be a\nin the reflective process there are many other factors such as the\nin the land of cold rain and the other hand the bible\n"
     ]
    }
   ],
   "source": [
    "#for word in dist['let', 'me']:\n",
    "#    print(\"Cond. frequency of\", word, dist['let', 'me'].freq(word))\n",
    "import random\n",
    "\n",
    "def generate_sentence(dist, words):\n",
    "    r = random.random()\n",
    "    accumulator = .0\n",
    "\n",
    "    s = words\n",
    "    for i in range(10):\n",
    "        for w, f in [ (w, dist_gb[tuple(s[-2:])].freq(w)) for w in dist_gb[tuple(s[-2:])] ]:\n",
    "            accumulator += f\n",
    "            if accumulator >= r:\n",
    "                s.append(w)\n",
    "                break\n",
    "    print (' '.join([ w for w in s ]))\n",
    " \n",
    "generate_sentence(dist_gb, [\"in\", \"the\"])\n",
    "generate_sentence(dist_gb, [\"in\", \"the\"])\n",
    "generate_sentence(dist_gb, [\"in\", \"the\"])\n"
   ]
  }
 ]
}