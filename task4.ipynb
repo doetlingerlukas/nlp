{
 "metadata": {
  "language_info": {
   "codemirror_mode": {
    "name": "ipython",
    "version": 3
   },
   "file_extension": ".py",
   "mimetype": "text/x-python",
   "name": "python",
   "nbconvert_exporter": "python",
   "pygments_lexer": "ipython3",
   "version": "3.9.2-final"
  },
  "orig_nbformat": 2,
  "kernelspec": {
   "name": "python3",
   "display_name": "Python 3.9.2 64-bit",
   "metadata": {
    "interpreter": {
     "hash": "5e201434fc87e731f1f08451237b3d562d890a8afaf10be68eaaa2bf1fd600d6"
    }
   }
  }
 },
 "nbformat": 4,
 "nbformat_minor": 2,
 "cells": [
  {
   "source": [
    "# Task 4\n",
    "\n",
    "*by Lukas Dötlinger*"
   ],
   "cell_type": "markdown",
   "metadata": {}
  },
  {
   "cell_type": "code",
   "execution_count": 14,
   "metadata": {
    "tags": []
   },
   "outputs": [],
   "source": [
    "from nltk.tokenize import word_tokenize\n",
    "from nltk.util import trigrams\n",
    "from nltk.probability import ConditionalFreqDist\n",
    "\n",
    "filter_words = lambda words: [ word.lower() for word in words if word.isalpha() ]\n",
    "\n",
    "def trigram_dist(sentences):\n",
    "    dist = ConditionalFreqDist()\n",
    "    for s in [ word_tokenize(s) for s in sentences ]:\n",
    "        for w1, w2, w3 in trigrams(filter_words(s)):\n",
    "            dist[(w1, w2)][w3] += 1\n",
    "    return dist\n",
    "\n",
    "dist_au = trigram_dist(open('res/training_data_AU.txt', encoding='utf8').readlines())\n",
    "dist_gb = trigram_dist(open('res/training_data_GB.txt', encoding='utf8').readlines())\n",
    "dist_us = trigram_dist(open('res/training_data_US.txt', encoding='utf8').readlines())\n"
   ]
  },
  {
   "cell_type": "code",
   "execution_count": 15,
   "metadata": {},
   "outputs": [
    {
     "output_type": "stream",
     "name": "stdout",
     "text": [
      "in the price of their own right and we are looking for\nin the past years the old testament access to the right to\nin the reproductive health care system has been a small group of\n"
     ]
    }
   ],
   "source": [
    "#for word in dist['let', 'me']:\n",
    "#    print(\"Cond. frequency of\", word, dist['let', 'me'].freq(word))\n",
    "import random\n",
    "\n",
    "def generate_sentence(dist, words):\n",
    "    r = random.random()\n",
    "    accumulator = .0\n",
    "\n",
    "    s = words\n",
    "    for i in range(10):\n",
    "        for w, f in [ (w, dist_gb[tuple(s[-2:])].freq(w)) for w in dist_gb[tuple(s[-2:])] ]:\n",
    "            accumulator += f\n",
    "            if accumulator >= r:\n",
    "                s.append(w)\n",
    "                break\n",
    "    print (' '.join([ w for w in s ]))\n",
    "\n",
    "generate_sentence(dist_gb, [\"in\", \"the\"])\n",
    "generate_sentence(dist_gb, [\"in\", \"the\"])\n",
    "generate_sentence(dist_gb, [\"in\", \"the\"])\n"
   ]
  },
  {
   "source": [
    "## Perplexity\n",
    "\n",
    "... describes how well a language model predicts a sample.\n",
    "\n",
    "The perplexity $PP$ of a sentence $s$ is calculated by: $PP(s) = P(s_1, s_2, ..., s_N)^{-\\frac{1}{N}}$"
   ],
   "cell_type": "markdown",
   "metadata": {}
  },
  {
   "cell_type": "code",
   "execution_count": 64,
   "metadata": {},
   "outputs": [
    {
     "output_type": "stream",
     "name": "stdout",
     "text": [
      "PP(s1) = 1.847193582450255\nPP(s2) = 1.9756969844841543\nPP(s3) = 1.0\nPP(s4) = 1.340080354175094\nPP(s5) = 2.064831394559741\nPP(s6) = 1.2353487360725695\nPP(s7) = 1.7066697411154184\nPP(s8) = 1.6756999954002187\nPP(s9) = 1.4100231600298865\n"
     ]
    }
   ],
   "source": [
    "from math import pow, prod\n",
    "\n",
    "def pp(sentence, dist):\n",
    "    p_words = [ dist[sentence[i-2], sentence[i-1]].freq(w) for (i, w) in enumerate(sentence) ]\n",
    "    p_s = prod([ p_w for p_w in p_words if p_w != 0 ])\n",
    "    return pow(p_s, -float(1/len(sentence)))\n",
    "\n",
    "tests = [ filter_words(word_tokenize(s)) for s in open('res/test_data.txt', encoding='utf8').readlines() ]\n",
    "for i, s in enumerate(tests, start=1):\n",
    "    if s[0] == 'au': print('PP(s{}) = {}'.format(i, pp(s[1:], dist_au)))\n",
    "    if s[0] == 'gb': print('PP(s{}) = {}'.format(i, pp(s[1:], dist_gb)))\n",
    "    if s[0] == 'us': print('PP(s{}) = {}'.format(i, pp(s[1:], dist_us)))\n"
   ]
  }
 ]
}